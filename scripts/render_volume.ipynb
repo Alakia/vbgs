{
 "cells": [
  {
   "cell_type": "markdown",
   "metadata": {},
   "source": [
    "# Render the VBGS"
   ]
  },
  {
   "cell_type": "code",
   "execution_count": null,
   "metadata": {},
   "outputs": [],
   "source": [
    "%load_ext autoreload\n",
    "%autoreload 2"
   ]
  },
  {
   "cell_type": "code",
   "execution_count": null,
   "metadata": {},
   "outputs": [],
   "source": [
    "import rich\n",
    "\n",
    "from pathlib import Path\n",
    "from PIL import Image\n",
    "from matplotlib import pyplot as plt\n",
    "\n",
    "import vbgs\n",
    "from vbgs.data.blender import BlenderDataIterator\n",
    "from vbgs.render.volume import (\n",
    "    readCamerasFromTransforms,\n",
    "    render_img,\n",
    "    vbgs_model_to_splat,\n",
    ")\n",
    "\n",
    "from vbgs.data.habitat import HabitatDataIterator"
   ]
  },
  {
   "cell_type": "code",
   "execution_count": null,
   "metadata": {},
   "outputs": [],
   "source": [
    "root_path = Path(vbgs.__file__).parent.parent\n",
    "blender_data_path = root_path / \"../../data/blender/lego\"\n",
    "\n",
    "# load the data in our format\n",
    "data_iter = BlenderDataIterator(blender_data_path, \"transforms_val.json\")\n",
    "rich.print(data_iter._frames[0])\n",
    "\n",
    "# Load the cameras in the gaussian-splatting format\n",
    "cameras = readCamerasFromTransforms(\n",
    "    blender_data_path, \"transforms_val.json\", True\n",
    ")\n",
    "\n",
    "# Load the trained model\n",
    "splat_path = (\n",
    "    \"data/blender-dataset/lego/nc:10000/subs:None_randinit:True/model_199.json\"\n",
    ")\n",
    "model = vbgs_model_to_splat(root_path / splat_path)"
   ]
  },
  {
   "cell_type": "code",
   "execution_count": null,
   "metadata": {},
   "outputs": [],
   "source": [
    "i = 0\n",
    "x_hat = render_img(model, cameras, i, 1)\n",
    "x = Image.open(\n",
    "    str(blender_data_path / data_iter._frames[i][\"file_path\"]) + \".png\"\n",
    ")\n",
    "\n",
    "fig, ax = plt.subplots(1, 2, figsize=(8, 4))\n",
    "ax[0].imshow(x)\n",
    "ax[0].set_title(\"Ground truth\")\n",
    "\n",
    "ax[1].imshow(x_hat)\n",
    "ax[1].set_title(\"Predicted\")\n",
    "\n",
    "[a.set_xticks([]) for a in ax.flatten()]\n",
    "[a.set_yticks([]) for a in ax.flatten()]\n",
    "plt.show()"
   ]
  },
  {
   "cell_type": "code",
   "execution_count": null,
   "metadata": {},
   "outputs": [],
   "source": []
  },
  {
   "cell_type": "code",
   "execution_count": null,
   "metadata": {},
   "outputs": [],
   "source": [
    "root_path = Path(vbgs.__file__).parent.parent\n",
    "\n",
    "habitat_data_path = (\n",
    "    \"/home/shared/habitat_processed/habitat-test-scenes/van-gogh-room/\"\n",
    ")\n",
    "\n",
    "# load the data in our format\n",
    "data_iter = HabitatDataIterator(habitat_data_path, \"\", None)\n",
    "rich.print(data_iter._frames[0])\n",
    "\n",
    "# Load the cameras in the gaussian-splatting format\n",
    "cameras = readCamerasFromTransforms(\n",
    "    root_path / \"resources/large-datasets/van-gogh-room\",\n",
    "    \"transforms_eval_200.json\",\n",
    "    True,\n",
    ")\n",
    "\n",
    "# Load the trained model\n",
    "splat_path = \"data/rooms/van-gogh-room_shuffle:True/nc:100000/randinit:True_reassign:True/model_199.json\"\n",
    "model = vbgs_model_to_splat(root_path / splat_path)"
   ]
  },
  {
   "cell_type": "code",
   "execution_count": null,
   "metadata": {},
   "outputs": [],
   "source": [
    "i = 0\n",
    "x_hat = render_img(model, cameras, i, 1, scale=2)\n",
    "x = Image.open(data_iter._frames[i])\n",
    "\n",
    "fig, ax = plt.subplots(1, 2, figsize=(8, 4))\n",
    "ax[0].imshow(x)\n",
    "ax[0].set_title(\"Ground truth\")\n",
    "\n",
    "ax[1].imshow(x_hat)\n",
    "ax[1].set_title(\"Predicted\")\n",
    "\n",
    "[a.set_xticks([]) for a in ax.flatten()]\n",
    "[a.set_yticks([]) for a in ax.flatten()]\n",
    "plt.show()"
   ]
  }
 ],
 "metadata": {
  "kernelspec": {
   "display_name": ".venv-render",
   "language": "python",
   "name": "python3"
  },
  "language_info": {
   "codemirror_mode": {
    "name": "ipython",
    "version": 3
   },
   "file_extension": ".py",
   "mimetype": "text/x-python",
   "name": "python",
   "nbconvert_exporter": "python",
   "pygments_lexer": "ipython3",
   "version": "3.11.7"
  }
 },
 "nbformat": 4,
 "nbformat_minor": 2
}
